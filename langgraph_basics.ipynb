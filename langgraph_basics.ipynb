{
 "cells": [
  {
   "cell_type": "markdown",
   "metadata": {
    "application/vnd.databricks.v1+cell": {
     "cellMetadata": {},
     "inputWidgets": {},
     "nuid": "f0380035-9eaa-4129-9a05-df172676c730",
     "showTitle": false,
     "tableResultSettingsMap": {},
     "title": ""
    }
   },
   "source": [
    "### LangGraph getting started examples\n",
    "DBR ML 16.1"
   ]
  },
  {
   "cell_type": "code",
   "execution_count": 0,
   "metadata": {
    "application/vnd.databricks.v1+cell": {
     "cellMetadata": {
      "byteLimit": 2048000,
      "rowLimit": 10000
     },
     "inputWidgets": {},
     "nuid": "e86fc02d-bfc5-48d8-9b69-a8aac80d8619",
     "showTitle": false,
     "tableResultSettingsMap": {},
     "title": ""
    },
    "jupyter": {
     "outputs_hidden": true
    }
   },
   "outputs": [],
   "source": [
    "%pip install langgraph databricks_langchain\n",
    "%restart_python"
   ]
  },
  {
   "cell_type": "code",
   "execution_count": 0,
   "metadata": {
    "application/vnd.databricks.v1+cell": {
     "cellMetadata": {
      "byteLimit": 2048000,
      "rowLimit": 10000
     },
     "inputWidgets": {},
     "nuid": "c958f5bf-063f-4483-959b-7b03ff1f609e",
     "showTitle": false,
     "tableResultSettingsMap": {},
     "title": ""
    }
   },
   "outputs": [],
   "source": [
    "from typing import TypedDict, Dict, Sequence, List, Annotated, Any\n",
    "from operator import add\n",
    "from langgraph.graph import StateGraph, END, START, MessageGraph\n",
    "from langchain_core.prompts import ChatPromptTemplate, MessagesPlaceholder, PromptTemplate\n",
    "from langchain_core.messages import BaseMessage, HumanMessage\n",
    "from IPython.display import Image\n",
    "from databricks_langchain import ChatDatabricks"
   ]
  },
  {
   "cell_type": "code",
   "execution_count": 0,
   "metadata": {
    "application/vnd.databricks.v1+cell": {
     "cellMetadata": {
      "byteLimit": 2048000,
      "rowLimit": 10000
     },
     "inputWidgets": {},
     "nuid": "62f76f9e-f731-4605-8d62-ee96ab1d3783",
     "showTitle": false,
     "tableResultSettingsMap": {},
     "title": ""
    }
   },
   "outputs": [],
   "source": [
    "model = ChatDatabricks(endpoint='databricks-mixtral-8x7b-instruct')"
   ]
  },
  {
   "cell_type": "markdown",
   "metadata": {
    "application/vnd.databricks.v1+cell": {
     "cellMetadata": {},
     "inputWidgets": {},
     "nuid": "f6fe10da-bfe3-44e2-898b-4702ac708442",
     "showTitle": false,
     "tableResultSettingsMap": {},
     "title": ""
    }
   },
   "source": [
    "### A simple example. \n",
    "Two graph nodes in a sequence"
   ]
  },
  {
   "cell_type": "code",
   "execution_count": 0,
   "metadata": {
    "application/vnd.databricks.v1+cell": {
     "cellMetadata": {
      "byteLimit": 2048000,
      "rowLimit": 10000
     },
     "inputWidgets": {},
     "nuid": "da20d4c7-d5a0-4a1c-b924-7d3549ba1457",
     "showTitle": false,
     "tableResultSettingsMap": {},
     "title": ""
    }
   },
   "outputs": [],
   "source": [
    "class SimpleState(TypedDict):\n",
    "  a: int\n",
    "  b: int\n",
    "  added: int\n",
    "  subtracted: int\n",
    "\n",
    "\n",
    "def addition(state: SimpleState) -> Dict[str, int]:\n",
    "  a = state['a']\n",
    "  b = state['b']\n",
    "  added = a + b\n",
    "  return {\"added\": added}\n",
    "\n",
    "\n",
    "def subtraction(state: SimpleState) -> Dict[str, int]:\n",
    "  a = state['a']\n",
    "  b = state['b']\n",
    "  added = state['added']\n",
    "  # Will return 0\n",
    "  subtracted = added - a - b\n",
    "  return {\"subtracted\": subtracted}"
   ]
  },
  {
   "cell_type": "code",
   "execution_count": 0,
   "metadata": {
    "application/vnd.databricks.v1+cell": {
     "cellMetadata": {
      "byteLimit": 2048000,
      "rowLimit": 10000
     },
     "inputWidgets": {},
     "nuid": "4b2175af-91bc-4fa2-877b-de6388e81275",
     "showTitle": false,
     "tableResultSettingsMap": {},
     "title": ""
    }
   },
   "outputs": [],
   "source": [
    "workflow = StateGraph(SimpleState)\n",
    "workflow.add_node(\"addition\", addition)\n",
    "workflow.add_node(\"subtraction\", subtraction)\n",
    "\n",
    "workflow.add_edge(START, \"addition\")\n",
    "workflow.add_edge(\"addition\", \"subtraction\")\n",
    "workflow.add_edge(\"subtraction\", END)\n",
    "app = workflow.compile()"
   ]
  },
  {
   "cell_type": "code",
   "execution_count": 0,
   "metadata": {
    "application/vnd.databricks.v1+cell": {
     "cellMetadata": {
      "byteLimit": 2048000,
      "rowLimit": 10000
     },
     "inputWidgets": {},
     "nuid": "5ee31ad0-4d0d-4d03-b327-8c4119bb272c",
     "showTitle": false,
     "tableResultSettingsMap": {},
     "title": ""
    }
   },
   "outputs": [],
   "source": [
    "display(Image(app.get_graph().draw_mermaid_png()))"
   ]
  },
  {
   "cell_type": "code",
   "execution_count": 0,
   "metadata": {
    "application/vnd.databricks.v1+cell": {
     "cellMetadata": {
      "byteLimit": 2048000,
      "rowLimit": 10000
     },
     "inputWidgets": {},
     "nuid": "993a6332-91e6-421a-9172-32bf0b072386",
     "showTitle": false,
     "tableResultSettingsMap": {},
     "title": ""
    }
   },
   "outputs": [],
   "source": [
    "input = {\"a\": 1, \"b\": 2}\n",
    "\n",
    "result = app.invoke(input)\n",
    "type(result)"
   ]
  },
  {
   "cell_type": "markdown",
   "metadata": {
    "application/vnd.databricks.v1+cell": {
     "cellMetadata": {},
     "inputWidgets": {},
     "nuid": "4f4915c8-3d65-470b-9d31-44415bf99987",
     "showTitle": false,
     "tableResultSettingsMap": {},
     "title": ""
    }
   },
   "source": [
    "### A more iteresting example using reflection.  \n",
    "\n",
    " - Ask the model to write a poem.\n",
    " - Then, ask the model to critique the poem.\n",
    " - Pass the critique back to the model, but as a HumanMessage\n",
    " - Ask the model to update the poem\n",
    " - Continue for three rewrites"
   ]
  },
  {
   "cell_type": "code",
   "execution_count": 0,
   "metadata": {
    "application/vnd.databricks.v1+cell": {
     "cellMetadata": {
      "byteLimit": 2048000,
      "rowLimit": 10000
     },
     "inputWidgets": {},
     "nuid": "bfe7e993-377e-4a67-9439-82e72a058db9",
     "showTitle": false,
     "tableResultSettingsMap": {},
     "title": ""
    }
   },
   "outputs": [],
   "source": [
    "display(Image(app.get_graph().draw_mermaid_png()))"
   ]
  },
  {
   "cell_type": "code",
   "execution_count": 0,
   "metadata": {
    "application/vnd.databricks.v1+cell": {
     "cellMetadata": {
      "byteLimit": 2048000,
      "rowLimit": 10000
     },
     "inputWidgets": {},
     "nuid": "f919e77a-05e3-4372-ab4b-76ac4c83e78a",
     "showTitle": false,
     "tableResultSettingsMap": {},
     "title": ""
    }
   },
   "outputs": [],
   "source": [
    "from langgraph.graph.message import add_messages\n",
    "\n",
    "model = ChatDatabricks(endpoint=\"databricks-meta-llama-3-1-405b-instruct\")\n",
    "#model = ChatDatabricks(endpoint=\"databricks-mixtral-8x7b-instruct\")\n",
    "\n",
    "reflection_instruction = \"\"\"You are a talented poet. Given a poem, provide detailed recommentations no how the poem could be improved. \n",
    "\n",
    "Poem:\n",
    "\n",
    "{poem}\n",
    "\"\"\"\n",
    "\n",
    "writing_instruction = \"\"\"You are a talented poet. A user has asked you to write a poem. Write the best poem you can based on the user's request. If the user provides a critique of your writing, revise your poem accordingly. Don't revise the poem unless the user provides feedback. If you receive feedback, return only the revised poem. Don't reference the feedback or thank the user for the feedback.\"\"\"\n",
    "\n",
    "\n",
    "critique_prompt = PromptTemplate.from_template(reflection_instruction)\n",
    " \n",
    "writing_prompt = ChatPromptTemplate.from_messages(\n",
    "  [\n",
    "    (\"system\", writing_instruction),\n",
    "    MessagesPlaceholder(variable_name=\"messages\")\n",
    "  ]\n",
    ")\n",
    "\n",
    "\n",
    "class ReflectionState(TypedDict):\n",
    "  messages: Annotated[list, add_messages]\n",
    "\n",
    "\n",
    "def writing_node(state: ReflectionState) -> Dict[str, Any]:\n",
    "\n",
    "  writing_chain = writing_prompt | model\n",
    "\n",
    "  poem_generation = writing_chain.invoke({\"messages\": state['messages']})\n",
    "\n",
    "  return {\"messages\": poem_generation}\n",
    "\n",
    "\n",
    "def critique_node(state: ReflectionState) -> Dict[str, Any]:\n",
    "\n",
    "  poem = state['messages'][-1].content\n",
    "\n",
    "  reflection_chain = critique_prompt | model\n",
    "  critique = reflection_chain.invoke({\"poem\": poem})\n",
    "\n",
    "  return {\"messages\": [HumanMessage(content=critique.content)]}\n",
    "\n",
    "\n",
    "def continue_critiquing(state: ReflectionState) -> str:\n",
    "  # Allow for three revisions\n",
    "  if len(state['messages']) > 7:\n",
    "    return END\n",
    "  return \"critique_node\"\n",
    "\n",
    "\n",
    "workflow = StateGraph(ReflectionState)\n",
    "workflow.add_node(\"writing_node\", writing_node)\n",
    "workflow.add_node(\"critique_node\", critique_node)\n",
    "\n",
    "workflow.add_edge(START, \"writing_node\")\n",
    "workflow.add_conditional_edges(\"writing_node\", continue_critiquing)\n",
    "workflow.add_edge(\"critique_node\", \"writing_node\")\n",
    "app = workflow.compile()\n",
    "\n",
    "display(Image(app.get_graph().draw_mermaid_png()))"
   ]
  },
  {
   "cell_type": "code",
   "execution_count": 0,
   "metadata": {
    "application/vnd.databricks.v1+cell": {
     "cellMetadata": {
      "byteLimit": 2048000,
      "rowLimit": 10000
     },
     "inputWidgets": {},
     "nuid": "1b620416-fe35-4671-b5e9-c8375f8c5054",
     "showTitle": false,
     "tableResultSettingsMap": {},
     "title": ""
    }
   },
   "outputs": [],
   "source": [
    "response = app.invoke({\"messages\": \n",
    "  [\n",
    "  HumanMessage(content=\"Write a poem about a data scientist that loves working on analytical problems\")\n",
    "    ]\n",
    "  }\n",
    ")"
   ]
  },
  {
   "cell_type": "code",
   "execution_count": 0,
   "metadata": {
    "application/vnd.databricks.v1+cell": {
     "cellMetadata": {
      "byteLimit": 2048000,
      "rowLimit": 10000
     },
     "inputWidgets": {},
     "nuid": "b43a2370-896a-4488-9b27-664dabe44043",
     "showTitle": false,
     "tableResultSettingsMap": {},
     "title": ""
    }
   },
   "outputs": [],
   "source": [
    "for resp in response['messages']:\n",
    "  print(f\"{resp.type}: {resp.content}\\n\\n\")"
   ]
  },
  {
   "cell_type": "markdown",
   "metadata": {
    "application/vnd.databricks.v1+cell": {
     "cellMetadata": {},
     "inputWidgets": {},
     "nuid": "7ac50977-0388-4ae3-a1b5-eaadd7098738",
     "showTitle": false,
     "tableResultSettingsMap": {},
     "title": ""
    }
   },
   "source": [
    "First poem"
   ]
  },
  {
   "cell_type": "code",
   "execution_count": 0,
   "metadata": {
    "application/vnd.databricks.v1+cell": {
     "cellMetadata": {
      "byteLimit": 2048000,
      "rowLimit": 10000
     },
     "inputWidgets": {},
     "nuid": "f85ddf04-53a5-4a16-8729-66f0b47b3f8d",
     "showTitle": false,
     "tableResultSettingsMap": {},
     "title": ""
    }
   },
   "outputs": [],
   "source": [
    "print(response['messages'][1].content)"
   ]
  },
  {
   "cell_type": "markdown",
   "metadata": {
    "application/vnd.databricks.v1+cell": {
     "cellMetadata": {
      "byteLimit": 2048000,
      "rowLimit": 10000
     },
     "inputWidgets": {},
     "nuid": "ba10291d-956b-4032-bd38-2feb3eb3759f",
     "showTitle": false,
     "tableResultSettingsMap": {},
     "title": ""
    }
   },
   "source": [
    "Last poem"
   ]
  },
  {
   "cell_type": "code",
   "execution_count": 0,
   "metadata": {
    "application/vnd.databricks.v1+cell": {
     "cellMetadata": {
      "byteLimit": 2048000,
      "rowLimit": 10000
     },
     "inputWidgets": {},
     "nuid": "a17861e1-83dd-4e6e-85a3-5aafa15b1548",
     "showTitle": false,
     "tableResultSettingsMap": {},
     "title": ""
    }
   },
   "outputs": [],
   "source": [
    "print(response['messages'][-1].content)"
   ]
  }
 ],
 "metadata": {
  "application/vnd.databricks.v1+notebook": {
   "computePreferences": null,
   "dashboards": [],
   "environmentMetadata": {
    "base_environment": "",
    "environment_version": "2"
   },
   "language": "python",
   "notebookMetadata": {
    "pythonIndentUnit": 2
   },
   "notebookName": "langgraph_basics",
   "widgets": {}
  },
  "language_info": {
   "name": "python"
  }
 },
 "nbformat": 4,
 "nbformat_minor": 0
}
